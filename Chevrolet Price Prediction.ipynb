{
 "cells": [
  {
   "cell_type": "markdown",
   "metadata": {},
   "source": [
    "# Codenames of Columns"
   ]
  },
  {
   "cell_type": "markdown",
   "metadata": {},
   "source": [
    "## Basic.2 = Name; Basic.3 = Model; Basic.6 = Price; Basic.19 = Transmission Type; Basic.20 = Gears; Basic.21 = Drive Type; Basic.4 = Status; .65 = Seat Type; .2 = Car Type"
   ]
  },
  {
   "cell_type": "code",
   "execution_count": 2,
   "metadata": {},
   "outputs": [
    {
     "data": {
      "text/html": [
       "<pre>Successfully parsed 2 tokens: \n",
       "\t0: Statistics ... rs by make\n",
       "\t1:</pre>"
      ],
      "text/plain": [
       "Successfully parsed 2 tokens: \n",
       "\t0: Statistics ... rs by make\n",
       "\t1:"
      ]
     },
     "metadata": {},
     "output_type": "display_data"
    },
    {
     "data": {
      "text/html": [
       "<pre>Successfully parsed 2 tokens: \n",
       "\t0: Copyright  ... oalida.com\n",
       "\t1:</pre>"
      ],
      "text/plain": [
       "Successfully parsed 2 tokens: \n",
       "\t0: Copyright  ... oalida.com\n",
       "\t1:"
      ]
     },
     "metadata": {},
     "output_type": "display_data"
    },
    {
     "data": {
      "text/html": [
       "<pre>Successfully parsed 2 tokens: \n",
       "\t0: Make\n",
       "\t1: Number of  ... l versions</pre>"
      ],
      "text/plain": [
       "Successfully parsed 2 tokens: \n",
       "\t0: Make\n",
       "\t1: Number of  ... l versions"
      ]
     },
     "metadata": {},
     "output_type": "display_data"
    },
    {
     "data": {
      "text/html": [
       "<pre>Successfully parsed 2 tokens: \n",
       "\t0: 53\n",
       "\t1: 4296</pre>"
      ],
      "text/plain": [
       "Successfully parsed 2 tokens: \n",
       "\t0: 53\n",
       "\t1: 4296"
      ]
     },
     "metadata": {},
     "output_type": "display_data"
    },
    {
     "data": {
      "text/html": [
       "<pre>Successfully parsed 2 tokens: \n",
       "\t0: Acura\n",
       "\t1: Launch 2018</pre>"
      ],
      "text/plain": [
       "Successfully parsed 2 tokens: \n",
       "\t0: Acura\n",
       "\t1: Launch 2018"
      ]
     },
     "metadata": {},
     "output_type": "display_data"
    },
    {
     "data": {
      "text/html": [
       "<pre>Successfully parsed 2 tokens: \n",
       "\t0: Ashok Leyland\n",
       "\t1: 7</pre>"
      ],
      "text/plain": [
       "Successfully parsed 2 tokens: \n",
       "\t0: Ashok Leyland\n",
       "\t1: 7"
      ]
     },
     "metadata": {},
     "output_type": "display_data"
    },
    {
     "data": {
      "text/html": [
       "<pre>Successfully parsed 2 tokens: \n",
       "\t0: Aston Martin\n",
       "\t1: 12</pre>"
      ],
      "text/plain": [
       "Successfully parsed 2 tokens: \n",
       "\t0: Aston Martin\n",
       "\t1: 12"
      ]
     },
     "metadata": {},
     "output_type": "display_data"
    },
    {
     "data": {
      "text/html": [
       "<pre>Successfully parsed 2 tokens: \n",
       "\t0: Audi\n",
       "\t1: 161</pre>"
      ],
      "text/plain": [
       "Successfully parsed 2 tokens: \n",
       "\t0: Audi\n",
       "\t1: 161"
      ]
     },
     "metadata": {},
     "output_type": "display_data"
    },
    {
     "data": {
      "text/html": [
       "<pre>Successfully parsed 2 tokens: \n",
       "\t0: Bentley\n",
       "\t1: 16</pre>"
      ],
      "text/plain": [
       "Successfully parsed 2 tokens: \n",
       "\t0: Bentley\n",
       "\t1: 16"
      ]
     },
     "metadata": {},
     "output_type": "display_data"
    },
    {
     "data": {
      "text/html": [
       "<pre>Successfully parsed 2 tokens: \n",
       "\t0: BMW\n",
       "\t1: 144</pre>"
      ],
      "text/plain": [
       "Successfully parsed 2 tokens: \n",
       "\t0: BMW\n",
       "\t1: 144"
      ]
     },
     "metadata": {},
     "output_type": "display_data"
    },
    {
     "data": {
      "text/html": [
       "<pre>139 lines failed to parse correctly</pre>"
      ],
      "text/plain": [
       "139 lines failed to parse correctly"
      ]
     },
     "metadata": {},
     "output_type": "display_data"
    },
    {
     "data": {
      "text/html": [
       "<pre>Finished parsing file /mnt/c/Users/HARINJAY/Documents/Jupyter Notebook/India-Car-Database-Full-Specs-by-Teoalida-SAMPLE.csv</pre>"
      ],
      "text/plain": [
       "Finished parsing file /mnt/c/Users/HARINJAY/Documents/Jupyter Notebook/India-Car-Database-Full-Specs-by-Teoalida-SAMPLE.csv"
      ]
     },
     "metadata": {},
     "output_type": "display_data"
    },
    {
     "data": {
      "text/html": [
       "<pre>Parsing completed. Parsed 100 lines in 0.074827 secs.</pre>"
      ],
      "text/plain": [
       "Parsing completed. Parsed 100 lines in 0.074827 secs."
      ]
     },
     "metadata": {},
     "output_type": "display_data"
    },
    {
     "name": "stdout",
     "output_type": "stream",
     "text": [
      "------------------------------------------------------\n",
      "Inferred types from first 100 line(s) of file as \n",
      "column_type_hints=[str,str,str,str,str,str,str,str,str,str,str,str,str,str,str,str,str,str,str,str,str,str,str,str,str,str,str,str,str,str,str,str,str,str,str,str,str,str,str,str,str,str,str,str,str,str,str,str,str,str,str,str,str,str,str,str,str,str,str,str,str,str,str,str,str,str,str,str,str,str,str,str,str,str,str,str,str,str,str,str,str,str,str,str,str,str,str,str,str,str,str,str,str,str,str,str,str,str,str,str,str,str,str,str,str,str,str,str,str,str,str,str,str,str,str,str,str,str,str,str,str,str,str,str,str,str,str,str,str,str,str,str,str,str,str,str,str,str,str,str,str,str,str,str,str,str,str,str,str,str,str,str,str,str,str,str,str,str,str,str,str,str,str,str,str,str,str,str,str,str,str,str,str,str,str,str,str,str,str,str,str,str,str,str,str,str,str,str,str,str]\n",
      "If parsing fails due to incorrect types, you can correct\n",
      "the inferred type list above and pass it to read_csv in\n",
      "the column_type_hints argument\n",
      "------------------------------------------------------\n"
     ]
    },
    {
     "data": {
      "text/html": [
       "<pre>Successfully parsed 2 tokens: \n",
       "\t0: Statistics ... rs by make\n",
       "\t1:</pre>"
      ],
      "text/plain": [
       "Successfully parsed 2 tokens: \n",
       "\t0: Statistics ... rs by make\n",
       "\t1:"
      ]
     },
     "metadata": {},
     "output_type": "display_data"
    },
    {
     "data": {
      "text/html": [
       "<pre>Successfully parsed 2 tokens: \n",
       "\t0: Copyright  ... oalida.com\n",
       "\t1:</pre>"
      ],
      "text/plain": [
       "Successfully parsed 2 tokens: \n",
       "\t0: Copyright  ... oalida.com\n",
       "\t1:"
      ]
     },
     "metadata": {},
     "output_type": "display_data"
    },
    {
     "data": {
      "text/html": [
       "<pre>Successfully parsed 2 tokens: \n",
       "\t0: Make\n",
       "\t1: Number of  ... l versions</pre>"
      ],
      "text/plain": [
       "Successfully parsed 2 tokens: \n",
       "\t0: Make\n",
       "\t1: Number of  ... l versions"
      ]
     },
     "metadata": {},
     "output_type": "display_data"
    },
    {
     "data": {
      "text/html": [
       "<pre>Successfully parsed 2 tokens: \n",
       "\t0: 53\n",
       "\t1: 4296</pre>"
      ],
      "text/plain": [
       "Successfully parsed 2 tokens: \n",
       "\t0: 53\n",
       "\t1: 4296"
      ]
     },
     "metadata": {},
     "output_type": "display_data"
    },
    {
     "data": {
      "text/html": [
       "<pre>Successfully parsed 2 tokens: \n",
       "\t0: Acura\n",
       "\t1: Launch 2018</pre>"
      ],
      "text/plain": [
       "Successfully parsed 2 tokens: \n",
       "\t0: Acura\n",
       "\t1: Launch 2018"
      ]
     },
     "metadata": {},
     "output_type": "display_data"
    },
    {
     "data": {
      "text/html": [
       "<pre>Successfully parsed 2 tokens: \n",
       "\t0: Ashok Leyland\n",
       "\t1: 7</pre>"
      ],
      "text/plain": [
       "Successfully parsed 2 tokens: \n",
       "\t0: Ashok Leyland\n",
       "\t1: 7"
      ]
     },
     "metadata": {},
     "output_type": "display_data"
    },
    {
     "data": {
      "text/html": [
       "<pre>Successfully parsed 2 tokens: \n",
       "\t0: Aston Martin\n",
       "\t1: 12</pre>"
      ],
      "text/plain": [
       "Successfully parsed 2 tokens: \n",
       "\t0: Aston Martin\n",
       "\t1: 12"
      ]
     },
     "metadata": {},
     "output_type": "display_data"
    },
    {
     "data": {
      "text/html": [
       "<pre>Successfully parsed 2 tokens: \n",
       "\t0: Audi\n",
       "\t1: 161</pre>"
      ],
      "text/plain": [
       "Successfully parsed 2 tokens: \n",
       "\t0: Audi\n",
       "\t1: 161"
      ]
     },
     "metadata": {},
     "output_type": "display_data"
    },
    {
     "data": {
      "text/html": [
       "<pre>Successfully parsed 2 tokens: \n",
       "\t0: Bentley\n",
       "\t1: 16</pre>"
      ],
      "text/plain": [
       "Successfully parsed 2 tokens: \n",
       "\t0: Bentley\n",
       "\t1: 16"
      ]
     },
     "metadata": {},
     "output_type": "display_data"
    },
    {
     "data": {
      "text/html": [
       "<pre>Successfully parsed 2 tokens: \n",
       "\t0: BMW\n",
       "\t1: 144</pre>"
      ],
      "text/plain": [
       "Successfully parsed 2 tokens: \n",
       "\t0: BMW\n",
       "\t1: 144"
      ]
     },
     "metadata": {},
     "output_type": "display_data"
    },
    {
     "data": {
      "text/html": [
       "<pre>139 lines failed to parse correctly</pre>"
      ],
      "text/plain": [
       "139 lines failed to parse correctly"
      ]
     },
     "metadata": {},
     "output_type": "display_data"
    },
    {
     "data": {
      "text/html": [
       "<pre>Finished parsing file /mnt/c/Users/HARINJAY/Documents/Jupyter Notebook/India-Car-Database-Full-Specs-by-Teoalida-SAMPLE.csv</pre>"
      ],
      "text/plain": [
       "Finished parsing file /mnt/c/Users/HARINJAY/Documents/Jupyter Notebook/India-Car-Database-Full-Specs-by-Teoalida-SAMPLE.csv"
      ]
     },
     "metadata": {},
     "output_type": "display_data"
    },
    {
     "data": {
      "text/html": [
       "<pre>Parsing completed. Parsed 223 lines in 0.071932 secs.</pre>"
      ],
      "text/plain": [
       "Parsing completed. Parsed 223 lines in 0.071932 secs."
      ]
     },
     "metadata": {},
     "output_type": "display_data"
    },
    {
     "data": {
      "text/html": [
       "<pre>Successfully parsed 2 tokens: \n",
       "\t0: Statistics ... rs by make\n",
       "\t1:</pre>"
      ],
      "text/plain": [
       "Successfully parsed 2 tokens: \n",
       "\t0: Statistics ... rs by make\n",
       "\t1:"
      ]
     },
     "metadata": {},
     "output_type": "display_data"
    },
    {
     "data": {
      "text/html": [
       "<pre>Successfully parsed 2 tokens: \n",
       "\t0: Copyright  ... oalida.com\n",
       "\t1:</pre>"
      ],
      "text/plain": [
       "Successfully parsed 2 tokens: \n",
       "\t0: Copyright  ... oalida.com\n",
       "\t1:"
      ]
     },
     "metadata": {},
     "output_type": "display_data"
    },
    {
     "data": {
      "text/html": [
       "<pre>Successfully parsed 2 tokens: \n",
       "\t0: Make\n",
       "\t1: Number of  ... l versions</pre>"
      ],
      "text/plain": [
       "Successfully parsed 2 tokens: \n",
       "\t0: Make\n",
       "\t1: Number of  ... l versions"
      ]
     },
     "metadata": {},
     "output_type": "display_data"
    },
    {
     "data": {
      "text/html": [
       "<pre>Successfully parsed 2 tokens: \n",
       "\t0: 53\n",
       "\t1: 4296</pre>"
      ],
      "text/plain": [
       "Successfully parsed 2 tokens: \n",
       "\t0: 53\n",
       "\t1: 4296"
      ]
     },
     "metadata": {},
     "output_type": "display_data"
    },
    {
     "data": {
      "text/html": [
       "<pre>Successfully parsed 2 tokens: \n",
       "\t0: Acura\n",
       "\t1: Launch 2018</pre>"
      ],
      "text/plain": [
       "Successfully parsed 2 tokens: \n",
       "\t0: Acura\n",
       "\t1: Launch 2018"
      ]
     },
     "metadata": {},
     "output_type": "display_data"
    },
    {
     "data": {
      "text/html": [
       "<pre>Successfully parsed 2 tokens: \n",
       "\t0: Ashok Leyland\n",
       "\t1: 7</pre>"
      ],
      "text/plain": [
       "Successfully parsed 2 tokens: \n",
       "\t0: Ashok Leyland\n",
       "\t1: 7"
      ]
     },
     "metadata": {},
     "output_type": "display_data"
    },
    {
     "data": {
      "text/html": [
       "<pre>Successfully parsed 2 tokens: \n",
       "\t0: Aston Martin\n",
       "\t1: 12</pre>"
      ],
      "text/plain": [
       "Successfully parsed 2 tokens: \n",
       "\t0: Aston Martin\n",
       "\t1: 12"
      ]
     },
     "metadata": {},
     "output_type": "display_data"
    },
    {
     "data": {
      "text/html": [
       "<pre>Successfully parsed 2 tokens: \n",
       "\t0: Audi\n",
       "\t1: 161</pre>"
      ],
      "text/plain": [
       "Successfully parsed 2 tokens: \n",
       "\t0: Audi\n",
       "\t1: 161"
      ]
     },
     "metadata": {},
     "output_type": "display_data"
    },
    {
     "data": {
      "text/html": [
       "<pre>Successfully parsed 2 tokens: \n",
       "\t0: Bentley\n",
       "\t1: 16</pre>"
      ],
      "text/plain": [
       "Successfully parsed 2 tokens: \n",
       "\t0: Bentley\n",
       "\t1: 16"
      ]
     },
     "metadata": {},
     "output_type": "display_data"
    },
    {
     "data": {
      "text/html": [
       "<pre>Successfully parsed 2 tokens: \n",
       "\t0: BMW\n",
       "\t1: 144</pre>"
      ],
      "text/plain": [
       "Successfully parsed 2 tokens: \n",
       "\t0: BMW\n",
       "\t1: 144"
      ]
     },
     "metadata": {},
     "output_type": "display_data"
    },
    {
     "data": {
      "text/html": [
       "<pre>139 lines failed to parse correctly</pre>"
      ],
      "text/plain": [
       "139 lines failed to parse correctly"
      ]
     },
     "metadata": {},
     "output_type": "display_data"
    },
    {
     "data": {
      "text/html": [
       "<pre>Finished parsing file /mnt/c/Users/HARINJAY/Documents/Jupyter Notebook/India-Car-Database-Full-Specs-by-Teoalida-SAMPLE.csv</pre>"
      ],
      "text/plain": [
       "Finished parsing file /mnt/c/Users/HARINJAY/Documents/Jupyter Notebook/India-Car-Database-Full-Specs-by-Teoalida-SAMPLE.csv"
      ]
     },
     "metadata": {},
     "output_type": "display_data"
    },
    {
     "data": {
      "text/html": [
       "<pre>Parsing completed. Parsed 100 lines in 0.07261 secs.</pre>"
      ],
      "text/plain": [
       "Parsing completed. Parsed 100 lines in 0.07261 secs."
      ]
     },
     "metadata": {},
     "output_type": "display_data"
    },
    {
     "name": "stdout",
     "output_type": "stream",
     "text": [
      "------------------------------------------------------\n",
      "Inferred types from first 100 line(s) of file as \n",
      "column_type_hints=[str,str,str,str,str,str,str,str,str,str,str,str,str,str,str,str,str,str,str,str,str,str,str,str,str,str,str,str,str,str,str,str,str,str,str,str,str,str,str,str,str,str,str,str,str,str,str,str,str,str,str,str,str,str,str,str,str,str,str,str,str,str,str,str,str,str,str,str,str,str,str,str,str,str,str,str,str,str,str,str,str,str,str,str,str,str,str,str,str,str,str,str,str,str,str,str,str,str,str,str,str,str,str,str,str,str,str,str,str,str,str,str,str,str,str,str,str,str,str,str,str,str,str,str,str,str,str,str,str,str,str,str,str,str,str,str,str,str,str,str,str,str,str,str,str,str,str,str,str,str,str,str,str,str,str,str,str,str,str,str,str,str,str,str,str,str,str,str,str,str,str,str,str,str,str,str,str,str,str,str,str,str,str,str,str,str,str,str,str,str]\n",
      "If parsing fails due to incorrect types, you can correct\n",
      "the inferred type list above and pass it to read_csv in\n",
      "the column_type_hints argument\n",
      "------------------------------------------------------\n"
     ]
    },
    {
     "data": {
      "text/html": [
       "<pre>Successfully parsed 2 tokens: \n",
       "\t0: Statistics ... rs by make\n",
       "\t1:</pre>"
      ],
      "text/plain": [
       "Successfully parsed 2 tokens: \n",
       "\t0: Statistics ... rs by make\n",
       "\t1:"
      ]
     },
     "metadata": {},
     "output_type": "display_data"
    },
    {
     "data": {
      "text/html": [
       "<pre>Successfully parsed 2 tokens: \n",
       "\t0: Copyright  ... oalida.com\n",
       "\t1:</pre>"
      ],
      "text/plain": [
       "Successfully parsed 2 tokens: \n",
       "\t0: Copyright  ... oalida.com\n",
       "\t1:"
      ]
     },
     "metadata": {},
     "output_type": "display_data"
    },
    {
     "data": {
      "text/html": [
       "<pre>Successfully parsed 2 tokens: \n",
       "\t0: Make\n",
       "\t1: Number of  ... l versions</pre>"
      ],
      "text/plain": [
       "Successfully parsed 2 tokens: \n",
       "\t0: Make\n",
       "\t1: Number of  ... l versions"
      ]
     },
     "metadata": {},
     "output_type": "display_data"
    },
    {
     "data": {
      "text/html": [
       "<pre>Successfully parsed 2 tokens: \n",
       "\t0: 53\n",
       "\t1: 4296</pre>"
      ],
      "text/plain": [
       "Successfully parsed 2 tokens: \n",
       "\t0: 53\n",
       "\t1: 4296"
      ]
     },
     "metadata": {},
     "output_type": "display_data"
    },
    {
     "data": {
      "text/html": [
       "<pre>Successfully parsed 2 tokens: \n",
       "\t0: Acura\n",
       "\t1: Launch 2018</pre>"
      ],
      "text/plain": [
       "Successfully parsed 2 tokens: \n",
       "\t0: Acura\n",
       "\t1: Launch 2018"
      ]
     },
     "metadata": {},
     "output_type": "display_data"
    },
    {
     "data": {
      "text/html": [
       "<pre>Successfully parsed 2 tokens: \n",
       "\t0: Ashok Leyland\n",
       "\t1: 7</pre>"
      ],
      "text/plain": [
       "Successfully parsed 2 tokens: \n",
       "\t0: Ashok Leyland\n",
       "\t1: 7"
      ]
     },
     "metadata": {},
     "output_type": "display_data"
    },
    {
     "data": {
      "text/html": [
       "<pre>Successfully parsed 2 tokens: \n",
       "\t0: Aston Martin\n",
       "\t1: 12</pre>"
      ],
      "text/plain": [
       "Successfully parsed 2 tokens: \n",
       "\t0: Aston Martin\n",
       "\t1: 12"
      ]
     },
     "metadata": {},
     "output_type": "display_data"
    },
    {
     "data": {
      "text/html": [
       "<pre>Successfully parsed 2 tokens: \n",
       "\t0: Audi\n",
       "\t1: 161</pre>"
      ],
      "text/plain": [
       "Successfully parsed 2 tokens: \n",
       "\t0: Audi\n",
       "\t1: 161"
      ]
     },
     "metadata": {},
     "output_type": "display_data"
    },
    {
     "data": {
      "text/html": [
       "<pre>Successfully parsed 2 tokens: \n",
       "\t0: Bentley\n",
       "\t1: 16</pre>"
      ],
      "text/plain": [
       "Successfully parsed 2 tokens: \n",
       "\t0: Bentley\n",
       "\t1: 16"
      ]
     },
     "metadata": {},
     "output_type": "display_data"
    },
    {
     "data": {
      "text/html": [
       "<pre>Successfully parsed 2 tokens: \n",
       "\t0: BMW\n",
       "\t1: 144</pre>"
      ],
      "text/plain": [
       "Successfully parsed 2 tokens: \n",
       "\t0: BMW\n",
       "\t1: 144"
      ]
     },
     "metadata": {},
     "output_type": "display_data"
    },
    {
     "data": {
      "text/html": [
       "<pre>139 lines failed to parse correctly</pre>"
      ],
      "text/plain": [
       "139 lines failed to parse correctly"
      ]
     },
     "metadata": {},
     "output_type": "display_data"
    },
    {
     "data": {
      "text/html": [
       "<pre>Finished parsing file /mnt/c/Users/HARINJAY/Documents/Jupyter Notebook/India-Car-Database-Full-Specs-by-Teoalida-SAMPLE.csv</pre>"
      ],
      "text/plain": [
       "Finished parsing file /mnt/c/Users/HARINJAY/Documents/Jupyter Notebook/India-Car-Database-Full-Specs-by-Teoalida-SAMPLE.csv"
      ]
     },
     "metadata": {},
     "output_type": "display_data"
    },
    {
     "data": {
      "text/html": [
       "<pre>Parsing completed. Parsed 223 lines in 0.063097 secs.</pre>"
      ],
      "text/plain": [
       "Parsing completed. Parsed 223 lines in 0.063097 secs."
      ]
     },
     "metadata": {},
     "output_type": "display_data"
    },
    {
     "data": {
      "text/html": [
       "<pre>Linear regression:</pre>"
      ],
      "text/plain": [
       "Linear regression:"
      ]
     },
     "metadata": {},
     "output_type": "display_data"
    },
    {
     "data": {
      "text/html": [
       "<pre>--------------------------------------------------------</pre>"
      ],
      "text/plain": [
       "--------------------------------------------------------"
      ]
     },
     "metadata": {},
     "output_type": "display_data"
    },
    {
     "data": {
      "text/html": [
       "<pre>Number of examples          : 121</pre>"
      ],
      "text/plain": [
       "Number of examples          : 121"
      ]
     },
     "metadata": {},
     "output_type": "display_data"
    },
    {
     "data": {
      "text/html": [
       "<pre>Number of features          : 189</pre>"
      ],
      "text/plain": [
       "Number of features          : 189"
      ]
     },
     "metadata": {},
     "output_type": "display_data"
    },
    {
     "data": {
      "text/html": [
       "<pre>Number of unpacked features : 189</pre>"
      ],
      "text/plain": [
       "Number of unpacked features : 189"
      ]
     },
     "metadata": {},
     "output_type": "display_data"
    },
    {
     "data": {
      "text/html": [
       "<pre>Number of coefficients    : 940</pre>"
      ],
      "text/plain": [
       "Number of coefficients    : 940"
      ]
     },
     "metadata": {},
     "output_type": "display_data"
    },
    {
     "data": {
      "text/html": [
       "<pre>Starting L-BFGS</pre>"
      ],
      "text/plain": [
       "Starting L-BFGS"
      ]
     },
     "metadata": {},
     "output_type": "display_data"
    },
    {
     "data": {
      "text/html": [
       "<pre>--------------------------------------------------------</pre>"
      ],
      "text/plain": [
       "--------------------------------------------------------"
      ]
     },
     "metadata": {},
     "output_type": "display_data"
    },
    {
     "data": {
      "text/html": [
       "<pre>+-----------+----------+-----------+--------------+--------------------+----------------------+---------------------------------+-----------------------------------+</pre>"
      ],
      "text/plain": [
       "+-----------+----------+-----------+--------------+--------------------+----------------------+---------------------------------+-----------------------------------+"
      ]
     },
     "metadata": {},
     "output_type": "display_data"
    },
    {
     "data": {
      "text/html": [
       "<pre>| Iteration | Passes   | Step size | Elapsed Time | Training Max Error | Validation Max Error | Training Root-Mean-Square Error | Validation Root-Mean-Square Error |</pre>"
      ],
      "text/plain": [
       "| Iteration | Passes   | Step size | Elapsed Time | Training Max Error | Validation Max Error | Training Root-Mean-Square Error | Validation Root-Mean-Square Error |"
      ]
     },
     "metadata": {},
     "output_type": "display_data"
    },
    {
     "data": {
      "text/html": [
       "<pre>+-----------+----------+-----------+--------------+--------------------+----------------------+---------------------------------+-----------------------------------+</pre>"
      ],
      "text/plain": [
       "+-----------+----------+-----------+--------------+--------------------+----------------------+---------------------------------+-----------------------------------+"
      ]
     },
     "metadata": {},
     "output_type": "display_data"
    },
    {
     "data": {
      "text/html": [
       "<pre>Warning: Reached max step size.</pre>"
      ],
      "text/plain": [
       "Warning: Reached max step size."
      ]
     },
     "metadata": {},
     "output_type": "display_data"
    },
    {
     "data": {
      "text/html": [
       "<pre>| 0         | 5        | 25.000000 | 1.017720     | 1999999.995521     | 1499999.996733       | 817819.611274                   | 828229.857104                     |</pre>"
      ],
      "text/plain": [
       "| 0         | 5        | 25.000000 | 1.017720     | 1999999.995521     | 1499999.996733       | 817819.611274                   | 828229.857104                     |"
      ]
     },
     "metadata": {},
     "output_type": "display_data"
    },
    {
     "data": {
      "text/html": [
       "<pre>| 1         | 10       | 1.054785  | 1.030614     | 1188740.289462     | 955244.918060        | 331140.122970                   | 336971.780120                     |</pre>"
      ],
      "text/plain": [
       "| 1         | 10       | 1.054785  | 1.030614     | 1188740.289462     | 955244.918060        | 331140.122970                   | 336971.780120                     |"
      ]
     },
     "metadata": {},
     "output_type": "display_data"
    },
    {
     "data": {
      "text/html": [
       "<pre>| 2         | 16       | 5.273925  | 1.042810     | 724819.554761      | 424190.985140        | 208384.566836                   | 218494.835682                     |</pre>"
      ],
      "text/plain": [
       "| 2         | 16       | 5.273925  | 1.042810     | 724819.554761      | 424190.985140        | 208384.566836                   | 218494.835682                     |"
      ]
     },
     "metadata": {},
     "output_type": "display_data"
    },
    {
     "data": {
      "text/html": [
       "<pre>| 3         | 22       | 1.836256  | 1.056519     | 574056.788293      | 366754.953065        | 118179.788416                   | 121338.083744                     |</pre>"
      ],
      "text/plain": [
       "| 3         | 22       | 1.836256  | 1.056519     | 574056.788293      | 366754.953065        | 118179.788416                   | 121338.083744                     |"
      ]
     },
     "metadata": {},
     "output_type": "display_data"
    },
    {
     "data": {
      "text/html": [
       "<pre>| 4         | 27       | 1.510868  | 1.068390     | 573126.753939      | 252161.075520        | 87024.138207                    | 83492.195556                      |</pre>"
      ],
      "text/plain": [
       "| 4         | 27       | 1.510868  | 1.068390     | 573126.753939      | 252161.075520        | 87024.138207                    | 83492.195556                      |"
      ]
     },
     "metadata": {},
     "output_type": "display_data"
    },
    {
     "data": {
      "text/html": [
       "<pre>| 9         | 34       | 1.000000  | 1.092653     | 567070.399504      | 244684.473729        | 53536.218540                    | 79005.693963                      |</pre>"
      ],
      "text/plain": [
       "| 9         | 34       | 1.000000  | 1.092653     | 567070.399504      | 244684.473729        | 53536.218540                    | 79005.693963                      |"
      ]
     },
     "metadata": {},
     "output_type": "display_data"
    },
    {
     "data": {
      "text/html": [
       "<pre>+-----------+----------+-----------+--------------+--------------------+----------------------+---------------------------------+-----------------------------------+</pre>"
      ],
      "text/plain": [
       "+-----------+----------+-----------+--------------+--------------------+----------------------+---------------------------------+-----------------------------------+"
      ]
     },
     "metadata": {},
     "output_type": "display_data"
    }
   ],
   "source": [
    "import turicreate as tc\n",
    "car = tc.SFrame('India-Car-Database-Full-Specs-by-Teoalida-SAMPLE.csv')\n",
    "cars = tc.SFrame('India-Car-Database-Full-Specs-by-Teoalida-SAMPLE.csv')\n",
    "car = car.add_row_number()\n",
    "car = car[car['id'] > 10]\n",
    "del car['id']\n",
    "def change_Basic_6(string):\n",
    "    string = string[:3]\n",
    "    try:\n",
    "        val = float(string) * 100000\n",
    "    except:\n",
    "        val = 0\n",
    "    return val\n",
    "\n",
    "car['Basic.6'] = car['Basic.6'].apply(change_Basic_6)\n",
    "valid_cars = car[car['Basic.6']!= 0]\n",
    "train, test = valid_cars.random_split(.8, seed = 0)\n",
    "model_cars = tc.linear_regression.create(train, target= 'Basic.6', features=None, validation_set=test)"
   ]
  },
  {
   "cell_type": "markdown",
   "metadata": {},
   "source": [
    "# Start predicting car price (Use Basic.6 column as price, for more details, view column index help)"
   ]
  },
  {
   "cell_type": "code",
   "execution_count": 13,
   "metadata": {},
   "outputs": [
    {
     "data": {
      "text/plain": [
       "dtype: float\n",
       "Rows: 1\n",
       "[22929.600495559505]"
      ]
     },
     "execution_count": 13,
     "metadata": {},
     "output_type": "execute_result"
    }
   ],
   "source": [
    "car1 = {\n",
    "    #fill up the details in this dictionary\n",
    "    \n",
    "}\n",
    "model_cars.predict(car1,missing_value_action= '')"
   ]
  },
  {
   "cell_type": "markdown",
   "metadata": {},
   "source": [
    "# Rough Works"
   ]
  },
  {
   "cell_type": "code",
   "execution_count": null,
   "metadata": {},
   "outputs": [],
   "source": []
  }
 ],
 "metadata": {
  "kernelspec": {
   "display_name": "Python 3",
   "language": "python",
   "name": "python3"
  },
  "language_info": {
   "codemirror_mode": {
    "name": "ipython",
    "version": 3
   },
   "file_extension": ".py",
   "mimetype": "text/x-python",
   "name": "python",
   "nbconvert_exporter": "python",
   "pygments_lexer": "ipython3",
   "version": "3.8.2"
  }
 },
 "nbformat": 4,
 "nbformat_minor": 4
}
